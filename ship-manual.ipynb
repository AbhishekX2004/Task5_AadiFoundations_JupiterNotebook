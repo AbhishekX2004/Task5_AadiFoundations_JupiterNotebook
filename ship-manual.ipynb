{
 "cells": [
  {
   "cell_type": "code",
   "execution_count": null,
   "metadata": {},
   "outputs": [],
   "source": []
  },
  {
   "cell_type": "markdown",
   "metadata": {},
   "source": [
    "Ship's Instruction Manual"
   ]
  },
  {
   "cell_type": "code",
   "execution_count": 1,
   "metadata": {},
   "outputs": [
    {
     "name": "stdout",
     "output_type": "stream",
     "text": [
      "Collecting ipywidgets\n",
      "  Downloading ipywidgets-8.1.3-py3-none-any.whl.metadata (2.4 kB)\n",
      "Requirement already satisfied: comm>=0.1.3 in c:\\users\\asus\\appdata\\roaming\\python\\python312\\site-packages (from ipywidgets) (0.2.2)\n",
      "Requirement already satisfied: ipython>=6.1.0 in c:\\users\\asus\\appdata\\roaming\\python\\python312\\site-packages (from ipywidgets) (8.24.0)\n",
      "Requirement already satisfied: traitlets>=4.3.1 in c:\\users\\asus\\appdata\\roaming\\python\\python312\\site-packages (from ipywidgets) (5.14.3)\n",
      "Collecting widgetsnbextension~=4.0.11 (from ipywidgets)\n",
      "  Downloading widgetsnbextension-4.0.11-py3-none-any.whl.metadata (1.6 kB)\n",
      "Collecting jupyterlab-widgets~=3.0.11 (from ipywidgets)\n",
      "  Downloading jupyterlab_widgets-3.0.11-py3-none-any.whl.metadata (4.1 kB)\n",
      "Requirement already satisfied: decorator in c:\\users\\asus\\appdata\\roaming\\python\\python312\\site-packages (from ipython>=6.1.0->ipywidgets) (5.1.1)\n",
      "Requirement already satisfied: jedi>=0.16 in c:\\users\\asus\\appdata\\roaming\\python\\python312\\site-packages (from ipython>=6.1.0->ipywidgets) (0.19.1)\n",
      "Requirement already satisfied: matplotlib-inline in c:\\users\\asus\\appdata\\roaming\\python\\python312\\site-packages (from ipython>=6.1.0->ipywidgets) (0.1.7)\n",
      "Requirement already satisfied: prompt-toolkit<3.1.0,>=3.0.41 in c:\\users\\asus\\appdata\\roaming\\python\\python312\\site-packages (from ipython>=6.1.0->ipywidgets) (3.0.43)\n",
      "Requirement already satisfied: pygments>=2.4.0 in c:\\users\\asus\\appdata\\roaming\\python\\python312\\site-packages (from ipython>=6.1.0->ipywidgets) (2.18.0)\n",
      "Requirement already satisfied: stack-data in c:\\users\\asus\\appdata\\roaming\\python\\python312\\site-packages (from ipython>=6.1.0->ipywidgets) (0.6.3)\n",
      "Requirement already satisfied: colorama in c:\\users\\asus\\appdata\\roaming\\python\\python312\\site-packages (from ipython>=6.1.0->ipywidgets) (0.4.6)\n",
      "Requirement already satisfied: parso<0.9.0,>=0.8.3 in c:\\users\\asus\\appdata\\roaming\\python\\python312\\site-packages (from jedi>=0.16->ipython>=6.1.0->ipywidgets) (0.8.4)\n",
      "Requirement already satisfied: wcwidth in c:\\users\\asus\\appdata\\roaming\\python\\python312\\site-packages (from prompt-toolkit<3.1.0,>=3.0.41->ipython>=6.1.0->ipywidgets) (0.2.13)\n",
      "Requirement already satisfied: executing>=1.2.0 in c:\\users\\asus\\appdata\\roaming\\python\\python312\\site-packages (from stack-data->ipython>=6.1.0->ipywidgets) (2.0.1)\n",
      "Requirement already satisfied: asttokens>=2.1.0 in c:\\users\\asus\\appdata\\roaming\\python\\python312\\site-packages (from stack-data->ipython>=6.1.0->ipywidgets) (2.4.1)\n",
      "Requirement already satisfied: pure-eval in c:\\users\\asus\\appdata\\roaming\\python\\python312\\site-packages (from stack-data->ipython>=6.1.0->ipywidgets) (0.2.2)\n",
      "Requirement already satisfied: six>=1.12.0 in c:\\users\\asus\\appdata\\roaming\\python\\python312\\site-packages (from asttokens>=2.1.0->stack-data->ipython>=6.1.0->ipywidgets) (1.16.0)\n",
      "Downloading ipywidgets-8.1.3-py3-none-any.whl (139 kB)\n",
      "   ---------------------------------------- 0.0/139.4 kB ? eta -:--:--\n",
      "   -- ------------------------------------- 10.2/139.4 kB ? eta -:--:--\n",
      "   ----------- --------------------------- 41.0/139.4 kB 487.6 kB/s eta 0:00:01\n",
      "   ------------------------- ------------- 92.2/139.4 kB 655.4 kB/s eta 0:00:01\n",
      "   -------------------------------------- 139.4/139.4 kB 828.0 kB/s eta 0:00:00\n",
      "Downloading jupyterlab_widgets-3.0.11-py3-none-any.whl (214 kB)\n",
      "   ---------------------------------------- 0.0/214.4 kB ? eta -:--:--\n",
      "   --------------------- ------------------ 112.6/214.4 kB 3.2 MB/s eta 0:00:01\n",
      "   -------------------------- ------------- 143.4/214.4 kB 1.7 MB/s eta 0:00:01\n",
      "   ------------------------------------ --- 194.6/214.4 kB 1.5 MB/s eta 0:00:01\n",
      "   ---------------------------------------- 214.4/214.4 kB 1.4 MB/s eta 0:00:00\n",
      "Downloading widgetsnbextension-4.0.11-py3-none-any.whl (2.3 MB)\n",
      "   ---------------------------------------- 0.0/2.3 MB ? eta -:--:--\n",
      "    --------------------------------------- 0.0/2.3 MB 1.3 MB/s eta 0:00:02\n",
      "   - -------------------------------------- 0.1/2.3 MB 1.1 MB/s eta 0:00:02\n",
      "   -- ------------------------------------- 0.1/2.3 MB 901.1 kB/s eta 0:00:03\n",
      "   -- ------------------------------------- 0.2/2.3 MB 913.1 kB/s eta 0:00:03\n",
      "   --- ------------------------------------ 0.2/2.3 MB 926.0 kB/s eta 0:00:03\n",
      "   ---- ----------------------------------- 0.2/2.3 MB 846.9 kB/s eta 0:00:03\n",
      "   ---- ----------------------------------- 0.3/2.3 MB 862.0 kB/s eta 0:00:03\n",
      "   ----- ---------------------------------- 0.3/2.3 MB 833.5 kB/s eta 0:00:03\n",
      "   ----- ---------------------------------- 0.3/2.3 MB 833.5 kB/s eta 0:00:03\n",
      "   ----- ---------------------------------- 0.3/2.3 MB 833.5 kB/s eta 0:00:03\n",
      "   ----- ---------------------------------- 0.3/2.3 MB 833.5 kB/s eta 0:00:03\n",
      "   ----- ---------------------------------- 0.3/2.3 MB 833.5 kB/s eta 0:00:03\n",
      "   ----- ---------------------------------- 0.3/2.3 MB 833.5 kB/s eta 0:00:03\n",
      "   ----- ---------------------------------- 0.3/2.3 MB 833.5 kB/s eta 0:00:03\n",
      "   ----- ---------------------------------- 0.3/2.3 MB 833.5 kB/s eta 0:00:03\n",
      "   ----- ---------------------------------- 0.3/2.3 MB 833.5 kB/s eta 0:00:03\n",
      "   ----- ---------------------------------- 0.3/2.3 MB 833.5 kB/s eta 0:00:03\n",
      "   ----- ---------------------------------- 0.3/2.3 MB 833.5 kB/s eta 0:00:03\n",
      "   ----- ---------------------------------- 0.3/2.3 MB 833.5 kB/s eta 0:00:03\n",
      "   ----- ---------------------------------- 0.3/2.3 MB 833.5 kB/s eta 0:00:03\n",
      "   ----- ---------------------------------- 0.3/2.3 MB 833.5 kB/s eta 0:00:03\n",
      "   ----- ---------------------------------- 0.3/2.3 MB 833.5 kB/s eta 0:00:03\n",
      "   ------ --------------------------------- 0.4/2.3 MB 352.1 kB/s eta 0:00:06\n",
      "   --------- ------------------------------ 0.6/2.3 MB 505.4 kB/s eta 0:00:04\n",
      "   --------- ------------------------------ 0.6/2.3 MB 502.6 kB/s eta 0:00:04\n",
      "   ---------- ----------------------------- 0.6/2.3 MB 491.3 kB/s eta 0:00:04\n",
      "   ---------- ----------------------------- 0.6/2.3 MB 495.6 kB/s eta 0:00:04\n",
      "   ----------- ---------------------------- 0.7/2.3 MB 511.2 kB/s eta 0:00:04\n",
      "   ------------ --------------------------- 0.7/2.3 MB 548.6 kB/s eta 0:00:03\n",
      "   ------------- -------------------------- 0.8/2.3 MB 566.8 kB/s eta 0:00:03\n",
      "   -------------- ------------------------- 0.9/2.3 MB 597.7 kB/s eta 0:00:03\n",
      "   --------------- ------------------------ 0.9/2.3 MB 613.4 kB/s eta 0:00:03\n",
      "   ---------------- ----------------------- 1.0/2.3 MB 628.2 kB/s eta 0:00:03\n",
      "   ----------------- ---------------------- 1.0/2.3 MB 655.3 kB/s eta 0:00:03\n",
      "   ------------------ --------------------- 1.1/2.3 MB 680.5 kB/s eta 0:00:02\n",
      "   -------------------- ------------------- 1.2/2.3 MB 704.5 kB/s eta 0:00:02\n",
      "   --------------------- ------------------ 1.2/2.3 MB 721.1 kB/s eta 0:00:02\n",
      "   --------------------- ------------------ 1.3/2.3 MB 719.7 kB/s eta 0:00:02\n",
      "   ---------------------- ----------------- 1.3/2.3 MB 734.3 kB/s eta 0:00:02\n",
      "   ----------------------- ---------------- 1.4/2.3 MB 750.2 kB/s eta 0:00:02\n",
      "   ------------------------ --------------- 1.4/2.3 MB 752.7 kB/s eta 0:00:02\n",
      "   ------------------------- -------------- 1.5/2.3 MB 750.3 kB/s eta 0:00:02\n",
      "   ------------------------- -------------- 1.5/2.3 MB 758.3 kB/s eta 0:00:02\n",
      "   -------------------------- ------------- 1.6/2.3 MB 766.0 kB/s eta 0:00:02\n",
      "   --------------------------- ------------ 1.6/2.3 MB 774.3 kB/s eta 0:00:01\n",
      "   ---------------------------- ----------- 1.7/2.3 MB 790.3 kB/s eta 0:00:01\n",
      "   ----------------------------- ---------- 1.8/2.3 MB 801.5 kB/s eta 0:00:01\n",
      "   ------------------------------- -------- 1.8/2.3 MB 821.4 kB/s eta 0:00:01\n",
      "   -------------------------------- ------- 1.9/2.3 MB 836.0 kB/s eta 0:00:01\n",
      "   --------------------------------- ------ 2.0/2.3 MB 845.6 kB/s eta 0:00:01\n",
      "   ---------------------------------- ----- 2.0/2.3 MB 859.1 kB/s eta 0:00:01\n",
      "   ----------------------------------- ---- 2.1/2.3 MB 867.9 kB/s eta 0:00:01\n",
      "   ------------------------------------- -- 2.2/2.3 MB 884.6 kB/s eta 0:00:01\n",
      "   -------------------------------------- - 2.3/2.3 MB 897.0 kB/s eta 0:00:01\n",
      "   ---------------------------------------  2.3/2.3 MB 912.6 kB/s eta 0:00:01\n",
      "   ---------------------------------------- 2.3/2.3 MB 907.1 kB/s eta 0:00:00\n",
      "Installing collected packages: widgetsnbextension, jupyterlab-widgets, ipywidgets\n",
      "Successfully installed ipywidgets-8.1.3 jupyterlab-widgets-3.0.11 widgetsnbextension-4.0.11\n",
      "Note: you may need to restart the kernel to use updated packages.\n"
     ]
    }
   ],
   "source": [
    "pip install ipywidgets"
   ]
  },
  {
   "cell_type": "code",
   "execution_count": 2,
   "metadata": {},
   "outputs": [
    {
     "data": {
      "application/vnd.jupyter.widget-view+json": {
       "model_id": "e1b3286ba72a4d938bd6d40bdf0b38ef",
       "version_major": 2,
       "version_minor": 0
      },
      "text/plain": [
       "ToggleButton(value=False, button_style='success', description='Start Engine', icon='rocket', tooltip='Engage y…"
      ]
     },
     "metadata": {},
     "output_type": "display_data"
    },
    {
     "data": {
      "application/vnd.jupyter.widget-view+json": {
       "model_id": "6b89bd606342487c8def77c81e6e0a56",
       "version_major": 2,
       "version_minor": 0
      },
      "text/plain": [
       "Output()"
      ]
     },
     "metadata": {},
     "output_type": "display_data"
    }
   ],
   "source": [
    "import ipywidgets as widgets\n",
    "\n",
    "ignition = widgets.ToggleButton(\n",
    "    value=False,\n",
    "    description='Start Engine',\n",
    "    button_style='success',\n",
    "    tooltip='Engage your Engine',\n",
    "    icon='rocket'\n",
    ")\n",
    "\n",
    "output = widgets.Output()\n",
    "\n",
    "display(ignition, output)\n",
    "\n",
    "def on_value_change(change):\n",
    "    with output:\n",
    "        if change['new'] == True:\n",
    "            print(\"engine started!\")\n",
    "        else:   \n",
    "            print(\"engine stopped\")\n",
    "\n",
    "ignition.observe(on_value_change, names='value')"
   ]
  }
 ],
 "metadata": {
  "kernelspec": {
   "display_name": "Python 3",
   "language": "python",
   "name": "python3"
  },
  "language_info": {
   "codemirror_mode": {
    "name": "ipython",
    "version": 3
   },
   "file_extension": ".py",
   "mimetype": "text/x-python",
   "name": "python",
   "nbconvert_exporter": "python",
   "pygments_lexer": "ipython3",
   "version": "3.12.2"
  }
 },
 "nbformat": 4,
 "nbformat_minor": 2
}
